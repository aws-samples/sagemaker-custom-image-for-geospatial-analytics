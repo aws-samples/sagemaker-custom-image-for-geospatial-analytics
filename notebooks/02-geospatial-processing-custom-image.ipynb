{
 "cells": [
  {
   "cell_type": "markdown",
   "id": "b19eb436-6bed-48c1-9cda-513f779be521",
   "metadata": {},
   "source": [
    "# Tutorial 2: Use your Custom Geospatial Image to Run Large-scale Geospatial Processing Routines using an Amazon SageMaker Processing Job"
   ]
  },
  {
   "cell_type": "markdown",
   "id": "2731b54a-92cc-49ab-a2e5-aaa8319821fb",
   "metadata": {},
   "source": [
    "__Prerequisites:__ We recommend running this notebook on an `m5.xlarge`. When launching the JupyterLab Space in SageMaker Studio, make sure to select the custom geospatial image that was created and attached to the SageMaker domain in the previous steps."
   ]
  },
  {
   "cell_type": "code",
   "execution_count": null,
   "id": "895dc450-eff6-472e-ad46-12188f60d991",
   "metadata": {
    "tags": []
   },
   "outputs": [],
   "source": [
    "#geo libraries\n",
    "import geopandas as gpd\n",
    "import pandas as pd\n",
    "import pystac_client\n",
    "import shapely\n",
    "from shapely import geometry, wkt\n",
    "import leafmap\n",
    "import rasterio\n",
    "from rasterio.plot import show\n",
    "import rioxarray\n",
    "#other libraries\n",
    "import os\n",
    "import numpy as np\n",
    "import pandas as pd\n",
    "import matplotlib.pyplot as plt\n",
    "import warnings\n",
    "import json\n",
    "import uuid\n",
    "from datetime import datetime\n",
    "import boto3\n",
    "import sagemaker\n",
    "from IPython.display import JSON"
   ]
  },
  {
   "cell_type": "code",
   "execution_count": null,
   "id": "de96f620-7327-4131-81a6-7876e5203445",
   "metadata": {
    "scrolled": true,
    "tags": []
   },
   "outputs": [],
   "source": [
    "#instantiate sessions and clients\n",
    "session = boto3.Session()\n",
    "sagemaker_session = sagemaker.Session()\n",
    "execution_role = sagemaker.get_execution_role()\n",
    "s3_client = boto3.client('s3')"
   ]
  },
  {
   "cell_type": "markdown",
   "id": "29b0180d-19d2-4e58-8cfe-2df15a083b02",
   "metadata": {},
   "source": [
    "___"
   ]
  },
  {
   "cell_type": "markdown",
   "id": "d04462ea-2d67-4b1b-97bc-21ef42f4f3b2",
   "metadata": {},
   "source": [
    "__Define an exemplary Geometry__"
   ]
  },
  {
   "cell_type": "code",
   "execution_count": null,
   "id": "84010b36-1207-43f5-9bde-e5b6a2640974",
   "metadata": {},
   "outputs": [],
   "source": [
    "coords = [[-102.00723310488662,40.596123257503024],[-102.00723310488662,40.58168585757733],[-101.9882214495914,40.58168585757733],[-101.9882214495914,40.596123257503024],[-102.00723310488662,40.596123257503024]]\n",
    "polgyon = shapely.Polygon(coords)\n",
    "aoi_gdf = gpd.GeoDataFrame(index=[0], crs='epsg:4326', geometry=[polgyon])"
   ]
  },
  {
   "cell_type": "markdown",
   "id": "47866404-d4bd-4d43-8d17-6a32d870fb76",
   "metadata": {},
   "source": [
    "__Visualize the Geometry__"
   ]
  },
  {
   "cell_type": "code",
   "execution_count": null,
   "id": "91958a2c-8890-4b9b-a17f-e4acac931147",
   "metadata": {},
   "outputs": [],
   "source": [
    "Map = leafmap.Map(center=[40.596123257503024, -102.00723310488662], zoom=13)\n",
    "Map.add_basemap(\"USGS NAIP Imagery\")\n",
    "Map.add_gdf(aoi_gdf, layer_name=\"test\", style={\"color\": \"yellow\", \"fillOpacity\": 0.3, \"clickable\": True,})\n",
    "Map"
   ]
  },
  {
   "cell_type": "markdown",
   "id": "7fe2823a-820f-4850-8498-fa11c21c44a2",
   "metadata": {},
   "source": [
    "__Search Sentinel-2 Satellite Data for given Geometry__"
   ]
  },
  {
   "cell_type": "code",
   "execution_count": null,
   "id": "ee9bf51b-86ee-46ba-829f-73bced1045c7",
   "metadata": {},
   "outputs": [],
   "source": [
    "def search_sentinel2_collection(start_date, end_date, aoi_geometry,max_cloud=100):\n",
    "    \"\"\"\n",
    "    Search Sentinel 2 data collection for target_date\n",
    "    and collect results including meta data in a dictionary.\n",
    "    This function uses the PySTAC client\n",
    "    \"\"\"\n",
    "    client = pystac_client.Client.open(\"https://earth-search.aws.element84.com/v1\")\n",
    "    collection = \"sentinel-2-l2a\"\n",
    "    \n",
    "    search = client.search(\n",
    "        collections=[collection],\n",
    "        query = {\"eo:cloud_cover\":{\"lt\":max_cloud}},\n",
    "        intersects=aoi_geometry.to_crs(\"EPSG:4326\").geometry[0].__geo_interface__, \n",
    "        datetime=f\"{start_date}/{end_date}\"\n",
    "    )\n",
    "    \n",
    "    s2_items = []\n",
    "    for item in search.items_as_dicts():\n",
    "        s2_items.append(item)\n",
    "        \n",
    "    return s2_items"
   ]
  },
  {
   "cell_type": "code",
   "execution_count": null,
   "id": "dc8c6aa3-a100-49b1-b4ee-426a7954ee5a",
   "metadata": {},
   "outputs": [],
   "source": [
    "#search parameters\n",
    "# let's load satellite data for the AOI\n",
    "analysis_start_date=pd.to_datetime(\"2023-01-01T00:00:00Z\").date()\n",
    "analysis_end_date=pd.to_datetime(\"2023-12-31T23:59:59Z\").date()\n",
    "aoi_geometry = aoi_gdf.geometry"
   ]
  },
  {
   "cell_type": "code",
   "execution_count": null,
   "id": "7914188f-414e-44f6-bbbd-acc36c5b9096",
   "metadata": {},
   "outputs": [],
   "source": [
    "sentinel2_items = search_sentinel2_collection(\n",
    "    start_date=analysis_start_date,\n",
    "    end_date=analysis_end_date,\n",
    "    aoi_geometry = aoi_geometry,\n",
    ")"
   ]
  },
  {
   "cell_type": "code",
   "execution_count": null,
   "id": "523d0c8e-d7b7-472e-8461-00c609c3d48f",
   "metadata": {},
   "outputs": [],
   "source": [
    "print(\"Total Sentinel-2 items found:\",len(sentinel2_items))"
   ]
  },
  {
   "cell_type": "code",
   "execution_count": null,
   "id": "ed7a3417-b847-4fb6-8e93-c23dc9f1a290",
   "metadata": {
    "scrolled": true
   },
   "outputs": [],
   "source": [
    "JSON(sentinel2_items)"
   ]
  },
  {
   "cell_type": "markdown",
   "id": "53abc5cd-1d1d-4284-97be-efc481a29278",
   "metadata": {},
   "source": [
    "__Create the Input Files for the Processing Job__\n",
    "\n",
    "We will create 2 types of files here:\n",
    "1. One file per selected Sentinel-2 scene with all metadata. Seperating scenes into individual files makes sharding for distributed training easy using the `ShardedByS3Key` distribution strategy.\n",
    "2. A single file with the geometry of the AOI of interest"
   ]
  },
  {
   "cell_type": "code",
   "execution_count": null,
   "id": "99e3b1af-42b7-4749-885d-84da98d0b6a5",
   "metadata": {
    "tags": []
   },
   "outputs": [],
   "source": [
    "def generate_execution_id():\n",
    "    current_date = datetime.now()\n",
    "    return current_date.strftime('%Y%m%d_%H%M%S') + \"_\" + str(uuid.uuid4()).split(\"-\")[0]\n",
    "\n",
    "execution_id = generate_execution_id()\n",
    "execution_id"
   ]
  },
  {
   "cell_type": "code",
   "execution_count": null,
   "id": "2a96d8d9-e9c6-459e-a8f9-befcffc55cc0",
   "metadata": {},
   "outputs": [],
   "source": [
    "# set bucket names\n",
    "bucket_name = sagemaker_session.default_bucket()\n",
    "bucket_prefix_sentinel2_meta = f\"processing/geospatial-data-cube/{execution_id}/input/sentinel2_scenes\"\n",
    "bucket_prefix_aoi_meta = f\"processing/geospatial-data-cube/{execution_id}/input/aoi\""
   ]
  },
  {
   "cell_type": "markdown",
   "id": "43da43e1-3ac4-44a4-a9d0-8a783cc5642b",
   "metadata": {},
   "source": [
    "__Generate and upload Sentinel-2 Tile Metadata Files to S3__"
   ]
  },
  {
   "cell_type": "code",
   "execution_count": null,
   "id": "a1d97da4-b276-4c8c-9cf5-fd9333df31d5",
   "metadata": {},
   "outputs": [],
   "source": [
    "#let's review tile ids and their prevalence\n",
    "s2_search_results = pd.DataFrame(sentinel2_items)\n",
    "s2_search_results[\"tile_id\"] = s2_search_results[\"id\"].apply(lambda x: x.split(\"_\")[1])\n",
    "s2_search_results.groupby([\"tile_id\"]).count()[\"id\"]"
   ]
  },
  {
   "cell_type": "code",
   "execution_count": null,
   "id": "53c6948b-2570-409e-9f26-d54a0f6d2964",
   "metadata": {},
   "outputs": [],
   "source": [
    "#limit to one tile ID only\n",
    "tile_id=\"13TGE\"\n",
    "manifest_file = [i for i in sentinel2_items if tile_id in i[\"id\"]]\n",
    "print(\"Scenes in scope:\",len(manifest_file))"
   ]
  },
  {
   "cell_type": "code",
   "execution_count": null,
   "id": "55ddc14e-e81f-4b11-a3d9-a117793fbb48",
   "metadata": {
    "scrolled": true,
    "tags": []
   },
   "outputs": [],
   "source": [
    "#save files to S3\n",
    "for s in manifest_file:\n",
    "    file_name = \"{}_metadata.json\".format(s[\"id\"])\n",
    "    response = s3_client.put_object(Body=(bytes(json.dumps(s, default=str).encode('UTF-8'))),\n",
    "                                    Bucket=bucket_name, Key=f\"{bucket_prefix_sentinel2_meta}/{file_name}\")"
   ]
  },
  {
   "cell_type": "markdown",
   "id": "c85caa8a-7d5e-4c77-b544-e384db3d7fc8",
   "metadata": {},
   "source": [
    "__Generate and upload the AOI Geometry Metadata File to S3__"
   ]
  },
  {
   "cell_type": "code",
   "execution_count": null,
   "id": "f21a12f9-453c-4441-8a61-65990b7b014d",
   "metadata": {},
   "outputs": [],
   "source": [
    "# upload aoi metadata to S3\n",
    "aoi_dict = {\"name\":\"us_field\",\"coords\":coords,\"crs\":'epsg:4326'}\n",
    "file_name_aoi = \"aoi_metadata.json\"\n",
    "response = s3_client.put_object(Body=(bytes(json.dumps(aoi_dict, default=str).encode('UTF-8'))),\n",
    "                                Bucket=bucket_name, Key=f\"{bucket_prefix_aoi_meta}/{file_name_aoi}\")"
   ]
  },
  {
   "cell_type": "markdown",
   "id": "27b08f63-6ff0-466d-8b94-4cc0668b2f87",
   "metadata": {},
   "source": [
    "__Define the Processing Routine__\n",
    "\n",
    "Here we will generate a routine that generates a data cube of different bands across the 3 years of observation for the AOI in scope.\n",
    "Specifically, for each Sentinel-2 scene will:\n",
    "1. Load the required bands\n",
    "2. Perform re-sampling to 10m resolution where required (for bands lower than 10m resolution)\n",
    "3. Merge all bands into a single xarray\n",
    "4. Intersect the xarray with a given geometry\n",
    "5. Filter out scenes with cloud cover above a certain threshold within the AOI (not the S2 tile)\n",
    "6. Save the clipped xarray data cube as a NetCDF file"
   ]
  },
  {
   "cell_type": "code",
   "execution_count": null,
   "id": "419435d1-d36f-4b7e-b627-5f506433fa35",
   "metadata": {},
   "outputs": [],
   "source": [
    "os.makedirs(\"./scripts/\",exist_ok=True)"
   ]
  },
  {
   "cell_type": "code",
   "execution_count": null,
   "id": "0af90a2e-d454-4c17-ad77-98194d49d8f4",
   "metadata": {
    "scrolled": true,
    "tags": []
   },
   "outputs": [],
   "source": [
    "%%writefile scripts/generate_aoi_data_cube.py\n",
    "import os\n",
    "import pickle\n",
    "import sys\n",
    "import subprocess\n",
    "import warnings\n",
    "import json\n",
    "import time\n",
    "import geopandas\n",
    "import pandas as pd\n",
    "import numpy as np\n",
    "import geopandas as gpd\n",
    "import shapely\n",
    "from shapely.geometry import shape\n",
    "from shapely.geometry import Polygon\n",
    "import xarray as xr\n",
    "import rioxarray\n",
    "from rioxarray.exceptions import NoDataInBounds\n",
    "import gc\n",
    "import logging\n",
    "import datetime\n",
    "\n",
    "#Parameters\n",
    "MAX_CLOUD_COVER_AOI = 0.3 #maximum 30% cloud coverage WTHIN area of interest (not the full tile)\n",
    "\n",
    "#HELPERS\n",
    "def get_logger(log_level):    \n",
    "    logger = logging.getLogger(\"processing\")\n",
    "\n",
    "    console_handler = logging.StreamHandler(sys.stdout)\n",
    "    # include %(name)s to also include logger name\n",
    "    console_handler.setFormatter(logging.Formatter('%(asctime)s [%(levelname)s] %(message)s'))\n",
    "    console_handler.setLevel(log_level)\n",
    "\n",
    "    logger.addHandler(console_handler)\n",
    "    logger.setLevel(log_level)\n",
    "    return logger\n",
    "\n",
    "def s2_scene_id_to_cog_path(scene_id):\n",
    "    parts = scene_id.split(\"_\")\n",
    "    s2_qualifier = \"{}/{}/{}/{}/{}/{}\".format(\n",
    "        parts[1][0:2],\n",
    "        parts[1][2],\n",
    "        parts[1][3:5],\n",
    "        parts[2][0:4],\n",
    "        str(int(parts[2][4:6])),\n",
    "        \"_\".join(parts)\n",
    "    )\n",
    "    return f\"https://sentinel-cogs.s3.us-west-2.amazonaws.com/sentinel-s2-l2a-cogs/{s2_qualifier}/\"\n",
    "\n",
    "def scene_id_to_datetime(scene_id):\n",
    "    dt = pd.to_datetime(scene_id.split(\"_\")[-3])\n",
    "    return dt\n",
    "\n",
    "def get_aoi_cloud_free_ratio(SCL_raster, aoi_gdf):\n",
    "    #reproject to EPSG:4326\n",
    "    kwargs = {\"nodata\": np.nan}\n",
    "    SCL_raster = SCL_raster.rio.reproject(\"EPSG:4326\", **kwargs)\n",
    "    #clip to AOI\n",
    "    SCL_raster_clipped = SCL.rio.clip(aoi_gdf.geometry.values, aoi_gdf.crs, drop=False, invert=True)\n",
    "    #get cloud-free ratio\n",
    "    SCL_mask_pixel_count = SCL_raster_clipped.SCL.data.size - np.count_nonzero(np.isnan(SCL_raster_clipped.SCL.data)) # get size of SCL mask in num pixels (excl. any nans)\n",
    "    SCL_classes_cloud_free = [4,5,6] # see here: https://custom-scripts.sentinel-hub.com/custom-scripts/sentinel-2/scene-classification/\n",
    "    SCL_cloud_free_pixel_count = np.isin(SCL_raster_clipped.SCL.data,SCL_classes_cloud_free).sum() #count pixels that are non-cloud class\n",
    "    cloud_free_ratio = SCL_cloud_free_pixel_count/SCL_mask_pixel_count\n",
    "    \n",
    "    return cloud_free_ratio\n",
    "\n",
    "#MAIN\n",
    "if __name__ == \"__main__\":\n",
    "    logger = get_logger(logging.DEBUG) #INFO\n",
    "    \n",
    "    logger.info(\"Starting processing\")\n",
    "    logger.debug(f\"Argument List: {str(sys.argv)}\")\n",
    "\n",
    "    #set permissions on output path\n",
    "    output_path = \"/opt/ml/processing/output/\"\n",
    "    subprocess.check_call([\"sudo\",\"chown\",\"-R\",\"sagemaker-user\", output_path])\n",
    "    \n",
    "    #load geometry and construct gdf\n",
    "    aoi_path = '/opt/ml/processing/input/aoi_meta/aoi_metadata.json'\n",
    "    with open(aoi_path) as file:\n",
    "        aoi_metadata = json.load(file)\n",
    "    polgyon = Polygon(aoi_metadata[\"coords\"])\n",
    "    aoi_gdf = gpd.GeoDataFrame(index=[0], crs=aoi_metadata[\"crs\"], geometry=[polgyon])\n",
    "                \n",
    "    #load all the sentinel-2 metadata files\n",
    "    s2_data_path = '/opt/ml/processing/input/sentinel2_meta/'\n",
    "    s2_items = []\n",
    "    for current_path, sub_dirs, files in os.walk(s2_data_path):\n",
    "        for file in files:\n",
    "            if file.endswith(\".json\"):\n",
    "                full_file_path = os.path.join(s2_data_path, current_path, file)\n",
    "                with open(full_file_path, 'r') as f:\n",
    "                    s2_items.append(json.load(f))\n",
    "    \n",
    "    item_count_total = len(s2_items)\n",
    "    item_count_current = 0\n",
    "    elapsed_time_batch = 0\n",
    "    logger.info(\"Received {} scenes to process\".format(item_count_total))\n",
    "\n",
    "    for item in s2_items:        \n",
    "        if item_count_current > 0 and item_count_current % 5 == 0:\n",
    "            logger.info(\"Processed {}/{} scenes ({}s per scene)\".format(\n",
    "                item_count_current, \n",
    "                item_count_total,\n",
    "                round(elapsed_time_batch / item_count_current, 2)\n",
    "            ))\n",
    "        item_count_current += 1\n",
    "\n",
    "        start = time.time()\n",
    "        s2_scene_id = item[\"id\"]\n",
    "        logger.debug(\"Processing scene: {}\".format(s2_scene_id))\n",
    "        \n",
    "        s2_cog_prefix = s2_scene_id_to_cog_path(s2_scene_id)\n",
    "        grid_id = s2_scene_id.split(\"_\")[1]\n",
    "        #time/date\n",
    "        date = scene_id_to_datetime(s2_scene_id)\n",
    "        #10m bands\n",
    "        blue_band_url = f\"{s2_cog_prefix}/B02.tif\"\n",
    "        green_band_url = f\"{s2_cog_prefix}/B03.tif\"\n",
    "        red_band_url = f\"{s2_cog_prefix}/B04.tif\"\n",
    "        nir1_band_url = f\"{s2_cog_prefix}/B08.tif\"\n",
    "        #20m bands\n",
    "        nir2_band_url = f\"{s2_cog_prefix}/B8A.tif\"\n",
    "        swir1_band_url = f\"{s2_cog_prefix}/B11.tif\"\n",
    "        swir2_band_url = f\"{s2_cog_prefix}/B12.tif\"\n",
    "        scl_mask_url = f\"{s2_cog_prefix}/SCL.tif\"\n",
    "        \n",
    "        #read from S3\n",
    "        #10m bands\n",
    "        B02 = rioxarray.open_rasterio(blue_band_url, masked=True,band_as_variable=True)\n",
    "        B02 = B02.rename(name_dict={\"band_1\":\"B02\"})\n",
    "        B03 = rioxarray.open_rasterio(green_band_url, masked=True,band_as_variable=True)\n",
    "        B03 = B03.rename(name_dict={\"band_1\":\"B03\"})\n",
    "        B04 = rioxarray.open_rasterio(red_band_url, masked=True,band_as_variable=True)\n",
    "        B04 = B04.rename(name_dict={\"band_1\":\"B04\"})\n",
    "        B08 = rioxarray.open_rasterio(nir1_band_url, masked=True,band_as_variable=True)\n",
    "        B08 = B08.rename(name_dict={\"band_1\":\"B08\"})\n",
    "        #20m bands/masks\n",
    "        B8A = rioxarray.open_rasterio(nir2_band_url, masked=True,band_as_variable=True)\n",
    "        B8A = B8A.rename(name_dict={\"band_1\":\"B8A\"})\n",
    "        B11 = rioxarray.open_rasterio(swir1_band_url, masked=True,band_as_variable=True)\n",
    "        B11 = B11.rename(name_dict={\"band_1\":\"B11\"})\n",
    "        B12 = rioxarray.open_rasterio(swir2_band_url, masked=True,band_as_variable=True)\n",
    "        B12 = B12.rename(name_dict={\"band_1\":\"B12\"})\n",
    "        SCL = rioxarray.open_rasterio(scl_mask_url, masked=True,band_as_variable=True)\n",
    "        SCL = SCL.rename(name_dict={\"band_1\":\"SCL\"})\n",
    "        \n",
    "        #resample to 10m where needed (relatively compute intensive!)\n",
    "        with warnings.catch_warnings():\n",
    "            warnings.simplefilter(\"ignore\")\n",
    "            B8A = B8A.interp(x=B02[\"x\"], y=B02[\"y\"])\n",
    "            B11 = B11.interp(x=B02[\"x\"], y=B02[\"y\"])\n",
    "            B12 = B12.interp(x=B02[\"x\"], y=B02[\"y\"])\n",
    "            SCL = SCL.interp(x=B02[\"x\"], y=B02[\"y\"])\n",
    "\n",
    "        #merge bands\n",
    "        band_arrays = [B02,B03,B04,B08,B8A,B11,B12,SCL]\n",
    "        s2_cube=xr.merge(objects=band_arrays)\n",
    "        del B02\n",
    "        del B03\n",
    "        del B04\n",
    "        del B08\n",
    "        del B8A\n",
    "        del B11\n",
    "        del B12\n",
    "        del band_arrays\n",
    "        gc.collect()\n",
    "        \n",
    "        #assign time dimension\n",
    "        s2_cube = s2_cube.assign_coords(time=date) #call this 'time'\n",
    "        #reproject to EPSG:4326\n",
    "        kwargs = {\"nodata\": np.nan}\n",
    "        s2_cube = s2_cube.rio.reproject(\"EPSG:4326\", **kwargs) \n",
    "        \n",
    "        #check cloud-free ratio at aoi level\n",
    "        cloud_free_ratio = get_aoi_cloud_free_ratio(SCL_raster=SCL, aoi_gdf=aoi_gdf)\n",
    "        if (1-float(cloud_free_ratio)) > MAX_CLOUD_COVER_AOI: #skip if too cloudy for given geom\n",
    "            logger.debug(f\"AOI cloud cover ratio too high ({round(1-cloud_free_ratio,3)}), skipping scene {s2_scene_id}...\")\n",
    "            del cloud_free_ratio\n",
    "        else: #continue if not too cloudy for given geom\n",
    "            logger.debug(f\"AOI cloud cover ratio below threshold ({round(1-cloud_free_ratio,3)}), processing scene {s2_scene_id}...\")     \n",
    "            try:\n",
    "                clipped = s2_cube.rio.clip(aoi_gdf.geometry.values, aoi_gdf.crs)\n",
    "            except NoDataInBounds as e:\n",
    "                logger.warn(\"Skipping {}: no data in bounds\".format(s2_scene_id))\n",
    "                continue\n",
    "                \n",
    "            #save to file\n",
    "            file_name = \"{}-{}.nc\".format(aoi_metadata[\"name\"],s2_scene_id)\n",
    "            output_file_path = f\"{output_path}{file_name}\"\n",
    "\n",
    "            clipped.to_netcdf(output_file_path)\n",
    "\n",
    "            logger.debug(f\"Written output:{output_file_path}\")\n",
    "\n",
    "            del clipped\n",
    "            del cloud_free_ratio\n",
    "            gc.collect()\n",
    "            \n",
    "        # explicit dereference to keep memory usage low\n",
    "        del s2_cube\n",
    "        del SCL\n",
    "        gc.collect()\n",
    "        \n",
    "        elapsed_time = time.time() - start\n",
    "        elapsed_time_batch += elapsed_time\n",
    "        \n",
    "        logger.debug(\"Processed scene {}: {}s\".format(s2_scene_id, elapsed_time))"
   ]
  },
  {
   "cell_type": "markdown",
   "id": "6a787e19-dab3-4da8-9608-ceefc35075c0",
   "metadata": {},
   "source": [
    "__Execute Processing Job__"
   ]
  },
  {
   "cell_type": "code",
   "execution_count": null,
   "id": "8d984d5b-d1c7-49f6-918e-abff495b4ccf",
   "metadata": {
    "tags": []
   },
   "outputs": [],
   "source": [
    "import sagemaker\n",
    "from sagemaker import get_execution_role\n",
    "from sagemaker.sklearn.processing import ScriptProcessor\n",
    "from sagemaker.processing import ProcessingInput, ProcessingOutput\n",
    "\n",
    "region = sagemaker.Session().boto_region_name\n",
    "role = get_execution_role()\n",
    "\n",
    "geospatial_image_uri = \"<GEOSPATIAL-IMAGE-URI>\" #<-- set to uri of the geospatial image you have created\n",
    "\n",
    "processor_ndvi_clip = ScriptProcessor(\n",
    "    command=['python3'],\n",
    "    image_uri=geospatial_image_uri,\n",
    "    role=role,\n",
    "    instance_count=20,\n",
    "    instance_type='ml.m5.2xlarge',\n",
    "    base_job_name='aoi-data-cube'\n",
    ")\n",
    "\n",
    "processor_ndvi_clip.run(\n",
    "    code='scripts/generate_aoi_data_cube.py',\n",
    "    inputs=[\n",
    "        ProcessingInput(\n",
    "            source=f\"s3://{bucket_name}/{bucket_prefix_aoi_meta}/\",\n",
    "            destination='/opt/ml/processing/input/aoi_meta/',\n",
    "            s3_data_distribution_type=\"FullyReplicated\"\n",
    "        ),        \n",
    "        ProcessingInput(\n",
    "            source=f\"s3://{bucket_name}/{bucket_prefix_sentinel2_meta}/\",\n",
    "            destination='/opt/ml/processing/input/sentinel2_meta/',\n",
    "            s3_data_distribution_type=\"ShardedByS3Key\"\n",
    "        ),\n",
    "    ],\n",
    "    outputs=[\n",
    "        ProcessingOutput(\n",
    "            source='/opt/ml/processing/output/',\n",
    "            destination=f\"s3://{bucket_name}/processing/geospatial-data-cube/{execution_id}/output/\"\n",
    "        )\n",
    "    ]\n",
    ")"
   ]
  },
  {
   "cell_type": "code",
   "execution_count": null,
   "id": "24951c4a-1fdf-450c-a499-e6ea54f8b2ec",
   "metadata": {
    "tags": []
   },
   "outputs": [],
   "source": [
    "job_descriptor = processor_ndvi_clip.jobs[-1].describe()\n",
    "job_duration = job_descriptor['ProcessingEndTime'] - job_descriptor['ProcessingStartTime']\n",
    "\n",
    "print(\"Processing job output located at '{}'\".format(job_descriptor[\"ProcessingOutputConfig\"][\"Outputs\"][0][\"S3Output\"][\"S3Uri\"]))\n",
    "print(\"Processing job '{}' took {} to complete\".format(job_descriptor['ProcessingJobName'], job_duration))"
   ]
  },
  {
   "cell_type": "markdown",
   "id": "66314f51-5608-455f-8d1b-cadac20f2137",
   "metadata": {},
   "source": [
    "__Load processed Scenes from S3__"
   ]
  },
  {
   "cell_type": "code",
   "execution_count": null,
   "id": "7089a92d-f305-4e53-b04d-fe051328ebe3",
   "metadata": {
    "tags": []
   },
   "outputs": [],
   "source": [
    "s3 = boto3.client('s3')\n",
    "s3_output_uri = job_descriptor[\"ProcessingOutputConfig\"][\"Outputs\"][0][\"S3Output\"][\"S3Uri\"]\n",
    "output_bucket_name = s3_output_uri.split(\"/\")[2]\n",
    "output_bucket_prefix = \"/\".join(s3_output_uri.split(\"/\")[3:])\n",
    "response = s3.list_objects_v2(Bucket=output_bucket_name, Prefix=output_bucket_prefix)"
   ]
  },
  {
   "cell_type": "code",
   "execution_count": null,
   "id": "34eb5ed9-eebc-480e-b539-825f32b1f407",
   "metadata": {
    "tags": []
   },
   "outputs": [],
   "source": [
    "# download each object to local\n",
    "local_directory=\"data\"\n",
    "for obj in response.get('Contents', []):\n",
    "    key = obj['Key']\n",
    "    local_path = os.path.join(local_directory, key)\n",
    "\n",
    "    # Create local directories if they don't exist\n",
    "    os.makedirs(os.path.dirname(local_path), exist_ok=True)\n",
    "    # Download the object\n",
    "    s3.download_file(output_bucket_name, key, local_path)"
   ]
  },
  {
   "cell_type": "markdown",
   "id": "3dc435df-aa34-40b4-8545-86d31eb08cbb",
   "metadata": {},
   "source": [
    "__Combine Scenes into Data Cube with Dimensions (time, x, y)__"
   ]
  },
  {
   "cell_type": "code",
   "execution_count": null,
   "id": "a109dd8f-664e-486b-8a7d-dccfceaca64a",
   "metadata": {
    "tags": []
   },
   "outputs": [],
   "source": [
    "#get individual time-stamped scenes\n",
    "import xarray as xr\n",
    "files = os.listdir(f\"{local_directory}/{output_bucket_prefix}\")\n",
    "scenes=[]\n",
    "for f in files:\n",
    "    scene = xr.open_dataset(f\"{local_directory}/{output_bucket_prefix}{f}\", decode_coords=\"all\")\n",
    "    scenes.append(scene)\n",
    "\n",
    "#generate cube\n",
    "s2_cube=xr.concat(objs=scenes, coords=\"minimal\", dim=\"time\",join='outer')\n",
    "s2_cube = s2_cube.sortby(\"time\")"
   ]
  },
  {
   "cell_type": "code",
   "execution_count": null,
   "id": "6756f59e-fcec-43c6-b557-952f56dfb7de",
   "metadata": {
    "tags": []
   },
   "outputs": [],
   "source": [
    "s2_cube"
   ]
  },
  {
   "cell_type": "markdown",
   "id": "a08520d7-a6bf-4402-a42d-768d293eaa32",
   "metadata": {},
   "source": [
    "__Perform some explorative Plotting__"
   ]
  },
  {
   "cell_type": "code",
   "execution_count": null,
   "id": "3cce5621-8dab-4a72-9e05-c86798e88752",
   "metadata": {
    "tags": []
   },
   "outputs": [],
   "source": [
    "#get earliest observation and plot band B02\n",
    "s2_cube.B02.sel(time=s2_cube.time.min()).plot()"
   ]
  },
  {
   "cell_type": "code",
   "execution_count": null,
   "id": "f4ba8146-8446-4999-b743-919aedf80cc8",
   "metadata": {
    "tags": []
   },
   "outputs": [],
   "source": [
    "#get latest observation and plot band B8A\n",
    "s2_cube.B8A.sel(time=s2_cube.time.max()).plot()"
   ]
  },
  {
   "cell_type": "markdown",
   "id": "f38c5f51-8706-44f6-a858-26b4be0253ac",
   "metadata": {},
   "source": [
    "__Remove Pixels with Clouds__"
   ]
  },
  {
   "cell_type": "code",
   "execution_count": null,
   "id": "1038b223-ea18-4c84-a62c-fa49a1d5a0aa",
   "metadata": {},
   "outputs": [],
   "source": [
    "s2_cube_clean = s2_cube.where(s2_cube.SCL.isin([4,5,7])) # only retain non-cloudy pixels using Sentinel scene classification: https://custom-scripts.sentinel-hub.com/custom-scripts/sentinel-2/scene-classification/"
   ]
  },
  {
   "cell_type": "markdown",
   "id": "1a750d81-da92-4531-99fb-ab7be3528dca",
   "metadata": {},
   "source": [
    "__Compute Spectral Indices like Normalized Difference Vegetation Index (NDVI) and Normalized Burn Ratio (NBR)__"
   ]
  },
  {
   "cell_type": "code",
   "execution_count": null,
   "id": "d2be9b8d-0593-4068-9e28-ae38bbaf231f",
   "metadata": {},
   "outputs": [],
   "source": [
    "s2_cube_clean['NDVI'] = (s2_cube_clean.B08 - s2_cube_clean.B04) / (s2_cube_clean.B08 + s2_cube_clean.B04)\n",
    "s2_cube_clean['NBR'] = (s2_cube_clean.B08 - s2_cube_clean.B12) / (s2_cube_clean.B08 + s2_cube_clean.B12) #NBR = (B8 - B12) / (B8 + B12)"
   ]
  },
  {
   "cell_type": "code",
   "execution_count": null,
   "id": "89d89cc5-13a6-497e-b9ba-341a4ca447a9",
   "metadata": {},
   "outputs": [],
   "source": [
    "s2_cube_clean"
   ]
  },
  {
   "cell_type": "markdown",
   "id": "e8d4a05c-fdc3-40e4-bf9f-f5c5864cd340",
   "metadata": {},
   "source": [
    "__Perform Pixel-level Temporal Analyses__"
   ]
  },
  {
   "cell_type": "code",
   "execution_count": null,
   "id": "9551c4ca-fcd6-4418-a4ab-4b8bc0392af3",
   "metadata": {},
   "outputs": [],
   "source": [
    "#plot ndvi timeseries for midpoint of field\n",
    "midpoint_x=s2_cube_clean[\"x\"][round((len(s2_cube_clean[\"x\"]))/2)]\n",
    "midpoint_y=s2_cube_clean[\"y\"][round((len(s2_cube_clean[\"y\"]))/2)]\n",
    "#plt.scs2_cube_clean.NDVI.sel(x=midpoint_x,y=midpoint_y).plot()\n",
    "plt.scatter(x=s2_cube_clean.time,y=s2_cube_clean.NDVI.sel(x=midpoint_x,y=midpoint_y))"
   ]
  },
  {
   "cell_type": "markdown",
   "id": "2ce9073a-9f17-4192-bb15-c8fcfa7f927a",
   "metadata": {},
   "source": [
    "__End of Notebook__"
   ]
  }
 ],
 "metadata": {
  "availableInstances": [
   {
    "_defaultOrder": 0,
    "_isFastLaunch": true,
    "category": "General purpose",
    "gpuNum": 0,
    "hideHardwareSpecs": false,
    "memoryGiB": 4,
    "name": "ml.t3.medium",
    "vcpuNum": 2
   },
   {
    "_defaultOrder": 1,
    "_isFastLaunch": false,
    "category": "General purpose",
    "gpuNum": 0,
    "hideHardwareSpecs": false,
    "memoryGiB": 8,
    "name": "ml.t3.large",
    "vcpuNum": 2
   },
   {
    "_defaultOrder": 2,
    "_isFastLaunch": false,
    "category": "General purpose",
    "gpuNum": 0,
    "hideHardwareSpecs": false,
    "memoryGiB": 16,
    "name": "ml.t3.xlarge",
    "vcpuNum": 4
   },
   {
    "_defaultOrder": 3,
    "_isFastLaunch": false,
    "category": "General purpose",
    "gpuNum": 0,
    "hideHardwareSpecs": false,
    "memoryGiB": 32,
    "name": "ml.t3.2xlarge",
    "vcpuNum": 8
   },
   {
    "_defaultOrder": 4,
    "_isFastLaunch": true,
    "category": "General purpose",
    "gpuNum": 0,
    "hideHardwareSpecs": false,
    "memoryGiB": 8,
    "name": "ml.m5.large",
    "vcpuNum": 2
   },
   {
    "_defaultOrder": 5,
    "_isFastLaunch": false,
    "category": "General purpose",
    "gpuNum": 0,
    "hideHardwareSpecs": false,
    "memoryGiB": 16,
    "name": "ml.m5.xlarge",
    "vcpuNum": 4
   },
   {
    "_defaultOrder": 6,
    "_isFastLaunch": false,
    "category": "General purpose",
    "gpuNum": 0,
    "hideHardwareSpecs": false,
    "memoryGiB": 32,
    "name": "ml.m5.2xlarge",
    "vcpuNum": 8
   },
   {
    "_defaultOrder": 7,
    "_isFastLaunch": false,
    "category": "General purpose",
    "gpuNum": 0,
    "hideHardwareSpecs": false,
    "memoryGiB": 64,
    "name": "ml.m5.4xlarge",
    "vcpuNum": 16
   },
   {
    "_defaultOrder": 8,
    "_isFastLaunch": false,
    "category": "General purpose",
    "gpuNum": 0,
    "hideHardwareSpecs": false,
    "memoryGiB": 128,
    "name": "ml.m5.8xlarge",
    "vcpuNum": 32
   },
   {
    "_defaultOrder": 9,
    "_isFastLaunch": false,
    "category": "General purpose",
    "gpuNum": 0,
    "hideHardwareSpecs": false,
    "memoryGiB": 192,
    "name": "ml.m5.12xlarge",
    "vcpuNum": 48
   },
   {
    "_defaultOrder": 10,
    "_isFastLaunch": false,
    "category": "General purpose",
    "gpuNum": 0,
    "hideHardwareSpecs": false,
    "memoryGiB": 256,
    "name": "ml.m5.16xlarge",
    "vcpuNum": 64
   },
   {
    "_defaultOrder": 11,
    "_isFastLaunch": false,
    "category": "General purpose",
    "gpuNum": 0,
    "hideHardwareSpecs": false,
    "memoryGiB": 384,
    "name": "ml.m5.24xlarge",
    "vcpuNum": 96
   },
   {
    "_defaultOrder": 12,
    "_isFastLaunch": false,
    "category": "General purpose",
    "gpuNum": 0,
    "hideHardwareSpecs": false,
    "memoryGiB": 8,
    "name": "ml.m5d.large",
    "vcpuNum": 2
   },
   {
    "_defaultOrder": 13,
    "_isFastLaunch": false,
    "category": "General purpose",
    "gpuNum": 0,
    "hideHardwareSpecs": false,
    "memoryGiB": 16,
    "name": "ml.m5d.xlarge",
    "vcpuNum": 4
   },
   {
    "_defaultOrder": 14,
    "_isFastLaunch": false,
    "category": "General purpose",
    "gpuNum": 0,
    "hideHardwareSpecs": false,
    "memoryGiB": 32,
    "name": "ml.m5d.2xlarge",
    "vcpuNum": 8
   },
   {
    "_defaultOrder": 15,
    "_isFastLaunch": false,
    "category": "General purpose",
    "gpuNum": 0,
    "hideHardwareSpecs": false,
    "memoryGiB": 64,
    "name": "ml.m5d.4xlarge",
    "vcpuNum": 16
   },
   {
    "_defaultOrder": 16,
    "_isFastLaunch": false,
    "category": "General purpose",
    "gpuNum": 0,
    "hideHardwareSpecs": false,
    "memoryGiB": 128,
    "name": "ml.m5d.8xlarge",
    "vcpuNum": 32
   },
   {
    "_defaultOrder": 17,
    "_isFastLaunch": false,
    "category": "General purpose",
    "gpuNum": 0,
    "hideHardwareSpecs": false,
    "memoryGiB": 192,
    "name": "ml.m5d.12xlarge",
    "vcpuNum": 48
   },
   {
    "_defaultOrder": 18,
    "_isFastLaunch": false,
    "category": "General purpose",
    "gpuNum": 0,
    "hideHardwareSpecs": false,
    "memoryGiB": 256,
    "name": "ml.m5d.16xlarge",
    "vcpuNum": 64
   },
   {
    "_defaultOrder": 19,
    "_isFastLaunch": false,
    "category": "General purpose",
    "gpuNum": 0,
    "hideHardwareSpecs": false,
    "memoryGiB": 384,
    "name": "ml.m5d.24xlarge",
    "vcpuNum": 96
   },
   {
    "_defaultOrder": 20,
    "_isFastLaunch": false,
    "category": "General purpose",
    "gpuNum": 0,
    "hideHardwareSpecs": true,
    "memoryGiB": 0,
    "name": "ml.geospatial.interactive",
    "supportedImageNames": [
     "sagemaker-geospatial-v1-0"
    ],
    "vcpuNum": 0
   },
   {
    "_defaultOrder": 21,
    "_isFastLaunch": true,
    "category": "Compute optimized",
    "gpuNum": 0,
    "hideHardwareSpecs": false,
    "memoryGiB": 4,
    "name": "ml.c5.large",
    "vcpuNum": 2
   },
   {
    "_defaultOrder": 22,
    "_isFastLaunch": false,
    "category": "Compute optimized",
    "gpuNum": 0,
    "hideHardwareSpecs": false,
    "memoryGiB": 8,
    "name": "ml.c5.xlarge",
    "vcpuNum": 4
   },
   {
    "_defaultOrder": 23,
    "_isFastLaunch": false,
    "category": "Compute optimized",
    "gpuNum": 0,
    "hideHardwareSpecs": false,
    "memoryGiB": 16,
    "name": "ml.c5.2xlarge",
    "vcpuNum": 8
   },
   {
    "_defaultOrder": 24,
    "_isFastLaunch": false,
    "category": "Compute optimized",
    "gpuNum": 0,
    "hideHardwareSpecs": false,
    "memoryGiB": 32,
    "name": "ml.c5.4xlarge",
    "vcpuNum": 16
   },
   {
    "_defaultOrder": 25,
    "_isFastLaunch": false,
    "category": "Compute optimized",
    "gpuNum": 0,
    "hideHardwareSpecs": false,
    "memoryGiB": 72,
    "name": "ml.c5.9xlarge",
    "vcpuNum": 36
   },
   {
    "_defaultOrder": 26,
    "_isFastLaunch": false,
    "category": "Compute optimized",
    "gpuNum": 0,
    "hideHardwareSpecs": false,
    "memoryGiB": 96,
    "name": "ml.c5.12xlarge",
    "vcpuNum": 48
   },
   {
    "_defaultOrder": 27,
    "_isFastLaunch": false,
    "category": "Compute optimized",
    "gpuNum": 0,
    "hideHardwareSpecs": false,
    "memoryGiB": 144,
    "name": "ml.c5.18xlarge",
    "vcpuNum": 72
   },
   {
    "_defaultOrder": 28,
    "_isFastLaunch": false,
    "category": "Compute optimized",
    "gpuNum": 0,
    "hideHardwareSpecs": false,
    "memoryGiB": 192,
    "name": "ml.c5.24xlarge",
    "vcpuNum": 96
   },
   {
    "_defaultOrder": 29,
    "_isFastLaunch": true,
    "category": "Accelerated computing",
    "gpuNum": 1,
    "hideHardwareSpecs": false,
    "memoryGiB": 16,
    "name": "ml.g4dn.xlarge",
    "vcpuNum": 4
   },
   {
    "_defaultOrder": 30,
    "_isFastLaunch": false,
    "category": "Accelerated computing",
    "gpuNum": 1,
    "hideHardwareSpecs": false,
    "memoryGiB": 32,
    "name": "ml.g4dn.2xlarge",
    "vcpuNum": 8
   },
   {
    "_defaultOrder": 31,
    "_isFastLaunch": false,
    "category": "Accelerated computing",
    "gpuNum": 1,
    "hideHardwareSpecs": false,
    "memoryGiB": 64,
    "name": "ml.g4dn.4xlarge",
    "vcpuNum": 16
   },
   {
    "_defaultOrder": 32,
    "_isFastLaunch": false,
    "category": "Accelerated computing",
    "gpuNum": 1,
    "hideHardwareSpecs": false,
    "memoryGiB": 128,
    "name": "ml.g4dn.8xlarge",
    "vcpuNum": 32
   },
   {
    "_defaultOrder": 33,
    "_isFastLaunch": false,
    "category": "Accelerated computing",
    "gpuNum": 4,
    "hideHardwareSpecs": false,
    "memoryGiB": 192,
    "name": "ml.g4dn.12xlarge",
    "vcpuNum": 48
   },
   {
    "_defaultOrder": 34,
    "_isFastLaunch": false,
    "category": "Accelerated computing",
    "gpuNum": 1,
    "hideHardwareSpecs": false,
    "memoryGiB": 256,
    "name": "ml.g4dn.16xlarge",
    "vcpuNum": 64
   },
   {
    "_defaultOrder": 35,
    "_isFastLaunch": false,
    "category": "Accelerated computing",
    "gpuNum": 1,
    "hideHardwareSpecs": false,
    "memoryGiB": 61,
    "name": "ml.p3.2xlarge",
    "vcpuNum": 8
   },
   {
    "_defaultOrder": 36,
    "_isFastLaunch": false,
    "category": "Accelerated computing",
    "gpuNum": 4,
    "hideHardwareSpecs": false,
    "memoryGiB": 244,
    "name": "ml.p3.8xlarge",
    "vcpuNum": 32
   },
   {
    "_defaultOrder": 37,
    "_isFastLaunch": false,
    "category": "Accelerated computing",
    "gpuNum": 8,
    "hideHardwareSpecs": false,
    "memoryGiB": 488,
    "name": "ml.p3.16xlarge",
    "vcpuNum": 64
   },
   {
    "_defaultOrder": 38,
    "_isFastLaunch": false,
    "category": "Accelerated computing",
    "gpuNum": 8,
    "hideHardwareSpecs": false,
    "memoryGiB": 768,
    "name": "ml.p3dn.24xlarge",
    "vcpuNum": 96
   },
   {
    "_defaultOrder": 39,
    "_isFastLaunch": false,
    "category": "Memory Optimized",
    "gpuNum": 0,
    "hideHardwareSpecs": false,
    "memoryGiB": 16,
    "name": "ml.r5.large",
    "vcpuNum": 2
   },
   {
    "_defaultOrder": 40,
    "_isFastLaunch": false,
    "category": "Memory Optimized",
    "gpuNum": 0,
    "hideHardwareSpecs": false,
    "memoryGiB": 32,
    "name": "ml.r5.xlarge",
    "vcpuNum": 4
   },
   {
    "_defaultOrder": 41,
    "_isFastLaunch": false,
    "category": "Memory Optimized",
    "gpuNum": 0,
    "hideHardwareSpecs": false,
    "memoryGiB": 64,
    "name": "ml.r5.2xlarge",
    "vcpuNum": 8
   },
   {
    "_defaultOrder": 42,
    "_isFastLaunch": false,
    "category": "Memory Optimized",
    "gpuNum": 0,
    "hideHardwareSpecs": false,
    "memoryGiB": 128,
    "name": "ml.r5.4xlarge",
    "vcpuNum": 16
   },
   {
    "_defaultOrder": 43,
    "_isFastLaunch": false,
    "category": "Memory Optimized",
    "gpuNum": 0,
    "hideHardwareSpecs": false,
    "memoryGiB": 256,
    "name": "ml.r5.8xlarge",
    "vcpuNum": 32
   },
   {
    "_defaultOrder": 44,
    "_isFastLaunch": false,
    "category": "Memory Optimized",
    "gpuNum": 0,
    "hideHardwareSpecs": false,
    "memoryGiB": 384,
    "name": "ml.r5.12xlarge",
    "vcpuNum": 48
   },
   {
    "_defaultOrder": 45,
    "_isFastLaunch": false,
    "category": "Memory Optimized",
    "gpuNum": 0,
    "hideHardwareSpecs": false,
    "memoryGiB": 512,
    "name": "ml.r5.16xlarge",
    "vcpuNum": 64
   },
   {
    "_defaultOrder": 46,
    "_isFastLaunch": false,
    "category": "Memory Optimized",
    "gpuNum": 0,
    "hideHardwareSpecs": false,
    "memoryGiB": 768,
    "name": "ml.r5.24xlarge",
    "vcpuNum": 96
   },
   {
    "_defaultOrder": 47,
    "_isFastLaunch": false,
    "category": "Accelerated computing",
    "gpuNum": 1,
    "hideHardwareSpecs": false,
    "memoryGiB": 16,
    "name": "ml.g5.xlarge",
    "vcpuNum": 4
   },
   {
    "_defaultOrder": 48,
    "_isFastLaunch": false,
    "category": "Accelerated computing",
    "gpuNum": 1,
    "hideHardwareSpecs": false,
    "memoryGiB": 32,
    "name": "ml.g5.2xlarge",
    "vcpuNum": 8
   },
   {
    "_defaultOrder": 49,
    "_isFastLaunch": false,
    "category": "Accelerated computing",
    "gpuNum": 1,
    "hideHardwareSpecs": false,
    "memoryGiB": 64,
    "name": "ml.g5.4xlarge",
    "vcpuNum": 16
   },
   {
    "_defaultOrder": 50,
    "_isFastLaunch": false,
    "category": "Accelerated computing",
    "gpuNum": 1,
    "hideHardwareSpecs": false,
    "memoryGiB": 128,
    "name": "ml.g5.8xlarge",
    "vcpuNum": 32
   },
   {
    "_defaultOrder": 51,
    "_isFastLaunch": false,
    "category": "Accelerated computing",
    "gpuNum": 1,
    "hideHardwareSpecs": false,
    "memoryGiB": 256,
    "name": "ml.g5.16xlarge",
    "vcpuNum": 64
   },
   {
    "_defaultOrder": 52,
    "_isFastLaunch": false,
    "category": "Accelerated computing",
    "gpuNum": 4,
    "hideHardwareSpecs": false,
    "memoryGiB": 192,
    "name": "ml.g5.12xlarge",
    "vcpuNum": 48
   },
   {
    "_defaultOrder": 53,
    "_isFastLaunch": false,
    "category": "Accelerated computing",
    "gpuNum": 4,
    "hideHardwareSpecs": false,
    "memoryGiB": 384,
    "name": "ml.g5.24xlarge",
    "vcpuNum": 96
   },
   {
    "_defaultOrder": 54,
    "_isFastLaunch": false,
    "category": "Accelerated computing",
    "gpuNum": 8,
    "hideHardwareSpecs": false,
    "memoryGiB": 768,
    "name": "ml.g5.48xlarge",
    "vcpuNum": 192
   },
   {
    "_defaultOrder": 55,
    "_isFastLaunch": false,
    "category": "Accelerated computing",
    "gpuNum": 8,
    "hideHardwareSpecs": false,
    "memoryGiB": 1152,
    "name": "ml.p4d.24xlarge",
    "vcpuNum": 96
   },
   {
    "_defaultOrder": 56,
    "_isFastLaunch": false,
    "category": "Accelerated computing",
    "gpuNum": 8,
    "hideHardwareSpecs": false,
    "memoryGiB": 1152,
    "name": "ml.p4de.24xlarge",
    "vcpuNum": 96
   },
   {
    "_defaultOrder": 57,
    "_isFastLaunch": false,
    "category": "Accelerated computing",
    "gpuNum": 0,
    "hideHardwareSpecs": false,
    "memoryGiB": 32,
    "name": "ml.trn1.2xlarge",
    "vcpuNum": 8
   },
   {
    "_defaultOrder": 58,
    "_isFastLaunch": false,
    "category": "Accelerated computing",
    "gpuNum": 0,
    "hideHardwareSpecs": false,
    "memoryGiB": 512,
    "name": "ml.trn1.32xlarge",
    "vcpuNum": 128
   },
   {
    "_defaultOrder": 59,
    "_isFastLaunch": false,
    "category": "Accelerated computing",
    "gpuNum": 0,
    "hideHardwareSpecs": false,
    "memoryGiB": 512,
    "name": "ml.trn1n.32xlarge",
    "vcpuNum": 128
   }
  ],
  "instance_type": "ml.geospatial.interactive",
  "kernelspec": {
   "display_name": "Python 3 (ipykernel)",
   "language": "python",
   "name": "python3"
  },
  "language_info": {
   "codemirror_mode": {
    "name": "ipython",
    "version": 3
   },
   "file_extension": ".py",
   "mimetype": "text/x-python",
   "name": "python",
   "nbconvert_exporter": "python",
   "pygments_lexer": "ipython3",
   "version": "3.10.13"
  }
 },
 "nbformat": 4,
 "nbformat_minor": 5
}
