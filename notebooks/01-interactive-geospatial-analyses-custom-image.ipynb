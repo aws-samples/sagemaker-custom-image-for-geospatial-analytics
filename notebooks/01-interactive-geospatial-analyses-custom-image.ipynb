{
 "cells": [
  {
   "cell_type": "markdown",
   "id": "3b2f47b7-e4f3-4300-8dd7-889675d9b2a4",
   "metadata": {},
   "source": [
    "# Tutorial 1: Use your Custom Geospatial Image to Perform Interactive Geospatial Analyses in a SageMaker Studio JupyterLab Notebook"
   ]
  },
  {
   "cell_type": "markdown",
   "id": "f9259220-fdab-4da0-a312-11cc4026a331",
   "metadata": {},
   "source": [
    "__Prerequisites:__ We recommend running this notebook on an `m5.xlarge`. When launching the JupyterLab Space in SageMaker Studio, make sure to select the custom geospatial image that was created and attached to the SageMaker domain in the previous steps."
   ]
  },
  {
   "cell_type": "markdown",
   "id": "879aa61a-6237-48ac-ab79-8eb0c6c94a35",
   "metadata": {},
   "source": [
    "__Import Geospatial Libraries__"
   ]
  },
  {
   "cell_type": "code",
   "execution_count": null,
   "id": "63d561dc-d9fc-4610-b9a2-25598bb5ad18",
   "metadata": {},
   "outputs": [],
   "source": [
    "#geo libraries\n",
    "import geopandas as gpd\n",
    "import pandas as pd\n",
    "import pystac_client\n",
    "import shapely\n",
    "from shapely import geometry, wkt\n",
    "import leafmap\n",
    "import rasterio\n",
    "from rasterio.plot import show\n",
    "import rioxarray\n",
    "#other libraries\n",
    "import os\n",
    "import numpy as np\n",
    "import pandas as pd\n",
    "import matplotlib.pyplot as plt\n",
    "import warnings"
   ]
  },
  {
   "cell_type": "markdown",
   "id": "850370f5-48ad-40a2-96fa-d2a7bf396a4c",
   "metadata": {},
   "source": [
    "__Define an exemplary Geometry__"
   ]
  },
  {
   "cell_type": "code",
   "execution_count": null,
   "id": "62fbea2a-6e7d-4bdf-b35c-c98b81f426ea",
   "metadata": {},
   "outputs": [],
   "source": [
    "coords = [[-102.00723310488662,40.596123257503024],[-102.00723310488662,40.58168585757733],[-101.9882214495914,40.58168585757733],[-101.9882214495914,40.596123257503024],[-102.00723310488662,40.596123257503024]]\n",
    "polgyon = shapely.Polygon(coords)\n",
    "aoi_gdf = gpd.GeoDataFrame(index=[0], crs='epsg:4326', geometry=[polgyon])"
   ]
  },
  {
   "cell_type": "markdown",
   "id": "009a1235-287b-4064-ab9c-ad38d453f165",
   "metadata": {},
   "source": [
    "__Visualize the Geometry__"
   ]
  },
  {
   "cell_type": "code",
   "execution_count": null,
   "id": "355d144a-b2ef-465a-943a-8c25f06be26a",
   "metadata": {},
   "outputs": [],
   "source": [
    "Map = leafmap.Map(center=[40.596123257503024, -102.00723310488662], zoom=13)\n",
    "Map.add_basemap(\"USGS NAIP Imagery\")\n",
    "Map.add_gdf(aoi_gdf, layer_name=\"test\", style={\"color\": \"yellow\", \"fillOpacity\": 0.3, \"clickable\": True,})\n",
    "Map"
   ]
  },
  {
   "cell_type": "markdown",
   "id": "a89dad88-2038-403b-afcc-bae1211a42a9",
   "metadata": {},
   "source": [
    "__Search Sentinel-2 Satellite Data for given Geometry__"
   ]
  },
  {
   "cell_type": "code",
   "execution_count": null,
   "id": "4332d284-f344-41c9-b598-bb8af6700b7c",
   "metadata": {},
   "outputs": [],
   "source": [
    "def search_sentinel2_collection(start_date, end_date, aoi_geometry,max_cloud=100):\n",
    "    \"\"\"\n",
    "    Search Sentinel 2 data collection for target_date\n",
    "    and collect results including meta data in a dictionary.\n",
    "    This function uses the PySTAC client\n",
    "    \"\"\"\n",
    "    client = pystac_client.Client.open(\"https://earth-search.aws.element84.com/v1\")\n",
    "    collection = \"sentinel-2-l2a\"\n",
    "    \n",
    "    search = client.search(\n",
    "        collections=[collection],\n",
    "        query = {\"eo:cloud_cover\":{\"lt\":max_cloud}},\n",
    "        intersects=aoi_geometry.to_crs(\"EPSG:4326\").geometry[0].__geo_interface__, \n",
    "        datetime=f\"{start_date}/{end_date}\"\n",
    "    )\n",
    "    \n",
    "    s2_items = []\n",
    "    for item in search.items_as_dicts():\n",
    "        s2_items.append(item)\n",
    "        \n",
    "    return s2_items"
   ]
  },
  {
   "cell_type": "code",
   "execution_count": null,
   "id": "5f1fd427-2c14-4d01-ba30-651779b99a04",
   "metadata": {},
   "outputs": [],
   "source": [
    "#search parameters\n",
    "analysis_start_date=pd.to_datetime(\"2023-07-01T00:00:00Z\").date()\n",
    "analysis_end_date=pd.to_datetime(\"2023-07-31T00:00:00Z\").date()\n",
    "aoi_geometry = aoi_gdf.geometry\n",
    "max_cloud=5"
   ]
  },
  {
   "cell_type": "code",
   "execution_count": null,
   "id": "1f00c584-4c4c-4621-83cb-943a4d7a995c",
   "metadata": {},
   "outputs": [],
   "source": [
    "sentinel2_items = search_sentinel2_collection(\n",
    "    start_date=analysis_start_date,\n",
    "    end_date=analysis_end_date,\n",
    "    aoi_geometry = aoi_geometry,\n",
    "    max_cloud=max_cloud\n",
    ")"
   ]
  },
  {
   "cell_type": "code",
   "execution_count": null,
   "id": "65bcda09-83f1-407d-b0dd-0d7951330a6e",
   "metadata": {
    "scrolled": true
   },
   "outputs": [],
   "source": [
    "from IPython.display import JSON\n",
    "JSON(sentinel2_items)"
   ]
  },
  {
   "cell_type": "markdown",
   "id": "9e6f7a1e-c068-47b7-bc06-b49a773c8e69",
   "metadata": {},
   "source": [
    "__Inspect a single Sentinel-2 Item by looking at its Thumbnail (a low-res Preview of the Sentinel-2 Tile)__"
   ]
  },
  {
   "cell_type": "code",
   "execution_count": null,
   "id": "ce447651-71e9-4976-b5d9-9b5f1e221719",
   "metadata": {},
   "outputs": [],
   "source": [
    "thumbnail_path = sentinel2_items[-1][\"assets\"][\"thumbnail\"][\"href\"]\n",
    "print(thumbnail_path)\n",
    "\n",
    "with warnings.catch_warnings():\n",
    "    warnings.filterwarnings(\"ignore\", category=rasterio.errors.NotGeoreferencedWarning)\n",
    "    src_thumbnail = rasterio.open(thumbnail_path)\n",
    "\n",
    "fig = plt.figure(figsize=(5, 5))\n",
    "ax = fig.add_subplot(1, 1, 1)\n",
    "show(src_thumbnail, ax=ax)\n",
    "plt.show()"
   ]
  },
  {
   "cell_type": "markdown",
   "id": "77fb02cb-6183-43eb-8ae7-709b2ca8c7ba",
   "metadata": {},
   "source": [
    "__Download selected Sentinel-2 Bands (red, green, blue) from S3, clip to Area of Observation (AOI) and visualize.__"
   ]
  },
  {
   "cell_type": "code",
   "execution_count": null,
   "id": "9d70106c-539c-4d81-a663-cfd50eb73f70",
   "metadata": {},
   "outputs": [],
   "source": [
    "def get_rgb_bands(aoi_geometry, sentinel2_item, output_projection=\"EPSG:4326\"):\n",
    "    \"\"\"\n",
    "    Extract red, green, blue (RGB) bands from GeoTiff,\n",
    "    reproject to desired CRS and collect in array\n",
    "    \"\"\"\n",
    "    aoi_geometry = aoi_geometry.to_crs(output_projection)[0]\n",
    "    blue = rioxarray.open_rasterio(sentinel2_items[-1][\"assets\"][\"blue\"][\"href\"], masked=True)\n",
    "    green = rioxarray.open_rasterio(sentinel2_items[-1][\"assets\"][\"green\"][\"href\"], masked=True)\n",
    "    red = rioxarray.open_rasterio(sentinel2_items[-1][\"assets\"][\"red\"][\"href\"], masked=True)\n",
    "\n",
    "    bands = []\n",
    "    for band in [red, green, blue]:\n",
    "        kwargs = {\"nodata\": np.nan}\n",
    "        band_reprojected = band.rio.reproject(output_projection, **kwargs)\n",
    "        bands.append(band_reprojected.rio.clip(geometries=[geometry.mapping(aoi_geometry)]))\n",
    "    return bands\n",
    "\n",
    "def normalize_rgb_bands(rgb_bands):\n",
    "    \"\"\"\n",
    "    Re-scale/normalize rgb bands to range [0,255]\n",
    "    \"\"\"\n",
    "    bands = []\n",
    "    for band in rgb_bands:\n",
    "        img_arr = band.to_numpy()\n",
    "        normalized = img_arr / np.amax(img_arr)\n",
    "        normalized = normalized * 255\n",
    "        bands.append(normalized.astype(np.uint8)[0])\n",
    "    return np.array(bands)"
   ]
  },
  {
   "cell_type": "code",
   "execution_count": null,
   "id": "5894289f-c04f-4948-873f-66595f59898b",
   "metadata": {},
   "outputs": [],
   "source": [
    "bands = get_rgb_bands(aoi_geometry=aoi_geometry, sentinel2_item=sentinel2_items[-1], output_projection=\"EPSG:3857\")\n",
    "bands_norm = normalize_rgb_bands(bands)"
   ]
  },
  {
   "cell_type": "code",
   "execution_count": null,
   "id": "36d32762-d358-4a55-bc5b-8d746fdbc0e8",
   "metadata": {},
   "outputs": [],
   "source": [
    "fig = plt.figure(figsize=(10, 10))\n",
    "ax = fig.add_subplot(1, 1, 1)\n",
    "plt.imshow(bands_norm.transpose(1, 2, 0))\n",
    "plt.show()"
   ]
  },
  {
   "cell_type": "markdown",
   "id": "b92ed082-c1f2-4023-adba-ac42a7b7d8ee",
   "metadata": {},
   "source": [
    "__End of Notebook__"
   ]
  }
 ],
 "metadata": {
  "kernelspec": {
   "display_name": "Python 3 (ipykernel)",
   "language": "python",
   "name": "python3"
  },
  "language_info": {
   "codemirror_mode": {
    "name": "ipython",
    "version": 3
   },
   "file_extension": ".py",
   "mimetype": "text/x-python",
   "name": "python",
   "nbconvert_exporter": "python",
   "pygments_lexer": "ipython3",
   "version": "3.10.13"
  }
 },
 "nbformat": 4,
 "nbformat_minor": 5
}
